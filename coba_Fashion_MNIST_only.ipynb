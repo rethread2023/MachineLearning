{
  "cells": [
    {
      "cell_type": "code",
      "execution_count": 1,
      "metadata": {
        "id": "rC2ubSNSFSy4"
      },
      "outputs": [],
      "source": [
        "import tensorflow as tf\n",
        "from tensorflow import keras\n",
        "import numpy as np"
      ]
    },
    {
      "cell_type": "code",
      "execution_count": 2,
      "metadata": {
        "colab": {
          "base_uri": "https://localhost:8080/"
        },
        "id": "d9Bha0UvFg5P",
        "outputId": "914c72c7-99b1-4a9d-cc40-8dc24ff061cc"
      },
      "outputs": [],
      "source": [
        "fashion_mnist = keras.datasets.fashion_mnist\n",
        "(train_images, train_labels), (test_images, test_labels) = fashion_mnist.load_data()\n",
        "\n",
        "train_images = train_images / 255.0\n",
        "test_images = test_images / 255.0\n"
      ]
    },
    {
      "cell_type": "code",
      "execution_count": 3,
      "metadata": {
        "id": "Zb0E-uS5Fnek"
      },
      "outputs": [],
      "source": [
        "model = keras.Sequential([\n",
        "    keras.layers.Flatten(input_shape=(28, 28)),\n",
        "    keras.layers.Dense(128, activation='relu'),\n",
        "    keras.layers.Dense(10, activation='softmax')\n",
        "])\n"
      ]
    },
    {
      "cell_type": "code",
      "execution_count": 4,
      "metadata": {},
      "outputs": [],
      "source": [
        "class myCallback(tf.keras.callbacks.Callback):\n",
        "    def on_epoch_end(self, epoch, logs={}):\n",
        "        if logs.get('accuracy') is not None and logs.get('accuracy') > 0.98:\n",
        "            print(\"\\nReached 95% accuracy so cancelling training!\")\n",
        "            self.model.stop_training = True\n",
        "\n",
        "callbacks = myCallback()"
      ]
    },
    {
      "cell_type": "code",
      "execution_count": 5,
      "metadata": {
        "id": "CgoWS0tDFqos"
      },
      "outputs": [],
      "source": [
        "model.compile(optimizer='adam',\n",
        "              loss='sparse_categorical_crossentropy',\n",
        "              metrics=['accuracy'])\n"
      ]
    },
    {
      "cell_type": "code",
      "execution_count": 6,
      "metadata": {
        "colab": {
          "base_uri": "https://localhost:8080/"
        },
        "id": "OPvP0JrpFsys",
        "outputId": "5637acbb-5c80-49d9-bf54-17b08e8f8068"
      },
      "outputs": [
        {
          "name": "stdout",
          "output_type": "stream",
          "text": [
            "Epoch 1/100\n",
            "1875/1875 [==============================] - 11s 5ms/step - loss: 0.4930 - accuracy: 0.8274\n",
            "Epoch 2/100\n",
            "1875/1875 [==============================] - 9s 5ms/step - loss: 0.3713 - accuracy: 0.8659\n",
            "Epoch 3/100\n",
            "1875/1875 [==============================] - 9s 5ms/step - loss: 0.3347 - accuracy: 0.8774\n",
            "Epoch 4/100\n",
            "1875/1875 [==============================] - 9s 5ms/step - loss: 0.3098 - accuracy: 0.8861\n",
            "Epoch 5/100\n",
            "1875/1875 [==============================] - 9s 5ms/step - loss: 0.2928 - accuracy: 0.8920\n",
            "Epoch 6/100\n",
            "1875/1875 [==============================] - 10s 5ms/step - loss: 0.2783 - accuracy: 0.8976\n",
            "Epoch 7/100\n",
            "1875/1875 [==============================] - 9s 5ms/step - loss: 0.2666 - accuracy: 0.9003\n",
            "Epoch 8/100\n",
            "1875/1875 [==============================] - 9s 5ms/step - loss: 0.2560 - accuracy: 0.9050\n",
            "Epoch 9/100\n",
            "1875/1875 [==============================] - 12s 6ms/step - loss: 0.2485 - accuracy: 0.9074\n",
            "Epoch 10/100\n",
            "1875/1875 [==============================] - 12s 6ms/step - loss: 0.2369 - accuracy: 0.9121\n",
            "Epoch 11/100\n",
            "1875/1875 [==============================] - 9s 5ms/step - loss: 0.2297 - accuracy: 0.9141\n",
            "Epoch 12/100\n",
            "1875/1875 [==============================] - 11s 6ms/step - loss: 0.2230 - accuracy: 0.9163\n",
            "Epoch 13/100\n",
            "1875/1875 [==============================] - 10s 5ms/step - loss: 0.2141 - accuracy: 0.9201\n",
            "Epoch 14/100\n",
            "1875/1875 [==============================] - 12s 6ms/step - loss: 0.2091 - accuracy: 0.9224\n",
            "Epoch 15/100\n",
            "1875/1875 [==============================] - 11s 6ms/step - loss: 0.2037 - accuracy: 0.9230\n",
            "Epoch 16/100\n",
            "1875/1875 [==============================] - 11s 6ms/step - loss: 0.1972 - accuracy: 0.9261\n",
            "Epoch 17/100\n",
            "1875/1875 [==============================] - 14s 7ms/step - loss: 0.1923 - accuracy: 0.9280\n",
            "Epoch 18/100\n",
            "1875/1875 [==============================] - 11s 6ms/step - loss: 0.1861 - accuracy: 0.9301\n",
            "Epoch 19/100\n",
            "1875/1875 [==============================] - 10s 5ms/step - loss: 0.1834 - accuracy: 0.9310\n",
            "Epoch 20/100\n",
            "1875/1875 [==============================] - 11s 6ms/step - loss: 0.1783 - accuracy: 0.9316\n",
            "Epoch 21/100\n",
            "1875/1875 [==============================] - 11s 6ms/step - loss: 0.1746 - accuracy: 0.9348\n",
            "Epoch 22/100\n",
            "1875/1875 [==============================] - 11s 6ms/step - loss: 0.1699 - accuracy: 0.9350\n",
            "Epoch 23/100\n",
            "1875/1875 [==============================] - 12s 6ms/step - loss: 0.1672 - accuracy: 0.9372\n",
            "Epoch 24/100\n",
            "1875/1875 [==============================] - 10s 6ms/step - loss: 0.1610 - accuracy: 0.9398\n",
            "Epoch 25/100\n",
            "1875/1875 [==============================] - 13s 7ms/step - loss: 0.1588 - accuracy: 0.9406\n",
            "Epoch 26/100\n",
            "1875/1875 [==============================] - 10s 5ms/step - loss: 0.1551 - accuracy: 0.9418\n",
            "Epoch 27/100\n",
            "1875/1875 [==============================] - 10s 5ms/step - loss: 0.1527 - accuracy: 0.9421\n",
            "Epoch 28/100\n",
            "1875/1875 [==============================] - 22s 12ms/step - loss: 0.1500 - accuracy: 0.9430\n",
            "Epoch 29/100\n",
            "1875/1875 [==============================] - 29s 16ms/step - loss: 0.1456 - accuracy: 0.9452\n",
            "Epoch 30/100\n",
            "1875/1875 [==============================] - 12s 6ms/step - loss: 0.1421 - accuracy: 0.9465\n",
            "Epoch 31/100\n",
            "1875/1875 [==============================] - 10s 5ms/step - loss: 0.1424 - accuracy: 0.9465\n",
            "Epoch 32/100\n",
            "1875/1875 [==============================] - 12s 6ms/step - loss: 0.1370 - accuracy: 0.9472\n",
            "Epoch 33/100\n",
            "1875/1875 [==============================] - 11s 6ms/step - loss: 0.1352 - accuracy: 0.9490\n",
            "Epoch 34/100\n",
            "1875/1875 [==============================] - 10s 5ms/step - loss: 0.1304 - accuracy: 0.9506\n",
            "Epoch 35/100\n",
            "1875/1875 [==============================] - 14s 7ms/step - loss: 0.1287 - accuracy: 0.9510\n",
            "Epoch 36/100\n",
            "1875/1875 [==============================] - 15s 8ms/step - loss: 0.1273 - accuracy: 0.9522\n",
            "Epoch 37/100\n",
            "1875/1875 [==============================] - 15s 8ms/step - loss: 0.1244 - accuracy: 0.9536\n",
            "Epoch 38/100\n",
            "1875/1875 [==============================] - 13s 7ms/step - loss: 0.1229 - accuracy: 0.9542\n",
            "Epoch 39/100\n",
            "1875/1875 [==============================] - 11s 6ms/step - loss: 0.1183 - accuracy: 0.9550\n",
            "Epoch 40/100\n",
            "1875/1875 [==============================] - 11s 6ms/step - loss: 0.1168 - accuracy: 0.9561\n",
            "Epoch 41/100\n",
            "1875/1875 [==============================] - 11s 6ms/step - loss: 0.1157 - accuracy: 0.9562\n",
            "Epoch 42/100\n",
            "1875/1875 [==============================] - 13s 7ms/step - loss: 0.1127 - accuracy: 0.9568\n",
            "Epoch 43/100\n",
            "1875/1875 [==============================] - 15s 8ms/step - loss: 0.1111 - accuracy: 0.9582\n",
            "Epoch 44/100\n",
            "1875/1875 [==============================] - 11s 6ms/step - loss: 0.1103 - accuracy: 0.9582\n",
            "Epoch 45/100\n",
            "1875/1875 [==============================] - 10s 5ms/step - loss: 0.1083 - accuracy: 0.9592\n",
            "Epoch 46/100\n",
            "1875/1875 [==============================] - 11s 6ms/step - loss: 0.1073 - accuracy: 0.9592\n",
            "Epoch 47/100\n",
            "1875/1875 [==============================] - 10s 5ms/step - loss: 0.1043 - accuracy: 0.9606\n",
            "Epoch 48/100\n",
            "1875/1875 [==============================] - 9s 5ms/step - loss: 0.1045 - accuracy: 0.9599\n",
            "Epoch 49/100\n",
            "1875/1875 [==============================] - 10s 5ms/step - loss: 0.1010 - accuracy: 0.9623\n",
            "Epoch 50/100\n",
            "1875/1875 [==============================] - 9s 5ms/step - loss: 0.0997 - accuracy: 0.9632\n",
            "Epoch 51/100\n",
            "1875/1875 [==============================] - 9s 5ms/step - loss: 0.0985 - accuracy: 0.9626\n",
            "Epoch 52/100\n",
            "1875/1875 [==============================] - 10s 5ms/step - loss: 0.0961 - accuracy: 0.9641\n",
            "Epoch 53/100\n",
            "1875/1875 [==============================] - 9s 5ms/step - loss: 0.0946 - accuracy: 0.9643\n",
            "Epoch 54/100\n",
            "1875/1875 [==============================] - 9s 5ms/step - loss: 0.0936 - accuracy: 0.9650\n",
            "Epoch 55/100\n",
            "1875/1875 [==============================] - 9s 5ms/step - loss: 0.0919 - accuracy: 0.9661\n",
            "Epoch 56/100\n",
            "1875/1875 [==============================] - 9s 5ms/step - loss: 0.0897 - accuracy: 0.9662\n",
            "Epoch 57/100\n",
            "1875/1875 [==============================] - 9s 5ms/step - loss: 0.0905 - accuracy: 0.9665\n",
            "Epoch 58/100\n",
            "1875/1875 [==============================] - 10s 5ms/step - loss: 0.0882 - accuracy: 0.9666\n",
            "Epoch 59/100\n",
            "1875/1875 [==============================] - 9s 5ms/step - loss: 0.0861 - accuracy: 0.9681\n",
            "Epoch 60/100\n",
            "1875/1875 [==============================] - 10s 5ms/step - loss: 0.0856 - accuracy: 0.9678\n",
            "Epoch 61/100\n",
            "1875/1875 [==============================] - 9s 5ms/step - loss: 0.0853 - accuracy: 0.9684\n",
            "Epoch 62/100\n",
            "1875/1875 [==============================] - 10s 5ms/step - loss: 0.0844 - accuracy: 0.9689\n",
            "Epoch 63/100\n",
            "1875/1875 [==============================] - 10s 6ms/step - loss: 0.0807 - accuracy: 0.9701\n",
            "Epoch 64/100\n",
            "1875/1875 [==============================] - 10s 6ms/step - loss: 0.0800 - accuracy: 0.9696\n",
            "Epoch 65/100\n",
            "1875/1875 [==============================] - 8s 4ms/step - loss: 0.0810 - accuracy: 0.9709\n",
            "Epoch 66/100\n",
            "1875/1875 [==============================] - 9s 5ms/step - loss: 0.0796 - accuracy: 0.9697\n",
            "Epoch 67/100\n",
            "1875/1875 [==============================] - 9s 5ms/step - loss: 0.0760 - accuracy: 0.9718\n",
            "Epoch 68/100\n",
            "1875/1875 [==============================] - 8s 4ms/step - loss: 0.0786 - accuracy: 0.9698\n",
            "Epoch 69/100\n",
            "1875/1875 [==============================] - 8s 4ms/step - loss: 0.0743 - accuracy: 0.9721\n",
            "Epoch 70/100\n",
            "1875/1875 [==============================] - 8s 4ms/step - loss: 0.0755 - accuracy: 0.9718\n",
            "Epoch 71/100\n",
            "1875/1875 [==============================] - 7s 4ms/step - loss: 0.0738 - accuracy: 0.9719\n",
            "Epoch 72/100\n",
            "1875/1875 [==============================] - 8s 4ms/step - loss: 0.0705 - accuracy: 0.9735\n",
            "Epoch 73/100\n",
            "1875/1875 [==============================] - 8s 5ms/step - loss: 0.0714 - accuracy: 0.9733\n",
            "Epoch 74/100\n",
            "1875/1875 [==============================] - 8s 5ms/step - loss: 0.0722 - accuracy: 0.9736\n",
            "Epoch 75/100\n",
            "1875/1875 [==============================] - 7s 4ms/step - loss: 0.0691 - accuracy: 0.9743\n",
            "Epoch 76/100\n",
            "1875/1875 [==============================] - 7s 4ms/step - loss: 0.0692 - accuracy: 0.9742\n",
            "Epoch 77/100\n",
            "1875/1875 [==============================] - 8s 4ms/step - loss: 0.0643 - accuracy: 0.9759\n",
            "Epoch 78/100\n",
            "1875/1875 [==============================] - 8s 4ms/step - loss: 0.0696 - accuracy: 0.9750\n",
            "Epoch 79/100\n",
            "1875/1875 [==============================] - 8s 4ms/step - loss: 0.0660 - accuracy: 0.9748\n",
            "Epoch 80/100\n",
            "1875/1875 [==============================] - 9s 5ms/step - loss: 0.0660 - accuracy: 0.9758\n",
            "Epoch 81/100\n",
            "1875/1875 [==============================] - 7s 4ms/step - loss: 0.0660 - accuracy: 0.9752\n",
            "Epoch 82/100\n",
            "1875/1875 [==============================] - 8s 4ms/step - loss: 0.0636 - accuracy: 0.9762\n",
            "Epoch 83/100\n",
            "1875/1875 [==============================] - 8s 4ms/step - loss: 0.0644 - accuracy: 0.9759\n",
            "Epoch 84/100\n",
            "1875/1875 [==============================] - 8s 4ms/step - loss: 0.0619 - accuracy: 0.9762\n",
            "Epoch 85/100\n",
            "1875/1875 [==============================] - 8s 4ms/step - loss: 0.0656 - accuracy: 0.9755\n",
            "Epoch 86/100\n",
            "1875/1875 [==============================] - 8s 4ms/step - loss: 0.0605 - accuracy: 0.9776\n",
            "Epoch 87/100\n",
            "1875/1875 [==============================] - 8s 4ms/step - loss: 0.0607 - accuracy: 0.9775\n",
            "Epoch 88/100\n",
            "1875/1875 [==============================] - 8s 4ms/step - loss: 0.0621 - accuracy: 0.9776\n",
            "Epoch 89/100\n",
            "1875/1875 [==============================] - 8s 4ms/step - loss: 0.0620 - accuracy: 0.9775\n",
            "Epoch 90/100\n",
            "1875/1875 [==============================] - 8s 4ms/step - loss: 0.0579 - accuracy: 0.9790\n",
            "Epoch 91/100\n",
            "1875/1875 [==============================] - 8s 4ms/step - loss: 0.0576 - accuracy: 0.9783\n",
            "Epoch 92/100\n",
            "1875/1875 [==============================] - 8s 4ms/step - loss: 0.0556 - accuracy: 0.9789\n",
            "Epoch 93/100\n",
            "1875/1875 [==============================] - 10s 5ms/step - loss: 0.0634 - accuracy: 0.9767\n",
            "Epoch 94/100\n",
            "1875/1875 [==============================] - 9s 5ms/step - loss: 0.0537 - accuracy: 0.9798\n",
            "Epoch 95/100\n",
            "1875/1875 [==============================] - 8s 4ms/step - loss: 0.0566 - accuracy: 0.9784\n",
            "Epoch 96/100\n",
            "1875/1875 [==============================] - 7s 4ms/step - loss: 0.0551 - accuracy: 0.9791\n",
            "Epoch 97/100\n",
            "1875/1875 [==============================] - 8s 4ms/step - loss: 0.0548 - accuracy: 0.9800\n",
            "Epoch 98/100\n",
            "1875/1875 [==============================] - 8s 4ms/step - loss: 0.0565 - accuracy: 0.9797\n",
            "Epoch 99/100\n",
            "1870/1875 [============================>.] - ETA: 0s - loss: 0.0515 - accuracy: 0.9806\n",
            "Reached 95% accuracy so cancelling training!\n",
            "1875/1875 [==============================] - 9s 5ms/step - loss: 0.0516 - accuracy: 0.9806\n"
          ]
        },
        {
          "data": {
            "text/plain": [
              "<keras.callbacks.History at 0x2c46e883b50>"
            ]
          },
          "execution_count": 6,
          "metadata": {},
          "output_type": "execute_result"
        }
      ],
      "source": [
        "model.fit(train_images, train_labels, epochs=100, batch_size=32, callbacks=callbacks)\n"
      ]
    },
    {
      "cell_type": "code",
      "execution_count": 7,
      "metadata": {
        "colab": {
          "base_uri": "https://localhost:8080/"
        },
        "id": "PfCMQifKRTqD",
        "outputId": "eb01457f-63fb-45fa-c565-c102add1704f"
      },
      "outputs": [
        {
          "name": "stdout",
          "output_type": "stream",
          "text": [
            "313/313 [==============================] - 2s 5ms/step - loss: 0.8014 - accuracy: 0.8851\n",
            "Test accuracy: 0.8851000070571899\n"
          ]
        }
      ],
      "source": [
        "test_loss, test_acc = model.evaluate(test_images, test_labels)\n",
        "print('Test accuracy:', test_acc)\n"
      ]
    },
    {
      "cell_type": "code",
      "execution_count": 8,
      "metadata": {},
      "outputs": [],
      "source": [
        "# Simpan model\n",
        "model.save('image_detection_fmnistonly.h5')"
      ]
    },
    {
      "cell_type": "code",
      "execution_count": 13,
      "metadata": {},
      "outputs": [
        {
          "name": "stdout",
          "output_type": "stream",
          "text": [
            "1/1 [==============================] - 0s 136ms/step\n",
            "Predicted Label: Bag\n"
          ]
        }
      ],
      "source": [
        "import cv2\n",
        "\n",
        "class_labels = ['T-shirt/top', 'Trouser', 'Pullover', 'Dress', 'Coat', 'Sandal', 'Shirt', 'Sneaker', 'Bag', 'Ankle boot']\n",
        "\n",
        "# Path ke gambar yang akan diprediksi\n",
        "image_path = 'gambarTest/4.jpg'\n",
        "\n",
        "# Membaca gambar\n",
        "image = cv2.imread(image_path)\n",
        "image = cv2.cvtColor(image, cv2.COLOR_BGR2GRAY)  \n",
        "image = cv2.resize(image, (28, 28))\n",
        "image = np.expand_dims(image, axis=-1)  \n",
        "image = image.astype('float32') / 255\n",
        "\n",
        "# Melakukan prediksi\n",
        "predictions = model.predict(np.array([image]))\n",
        "predicted_class = np.argmax(predictions)\n",
        "\n",
        "# Mengonversi kelas prediksi menjadi label\n",
        "predicted_label = class_labels[predicted_class]\n",
        "\n",
        "# Menampilkan hasil prediksi\n",
        "print('Predicted Label:', predicted_label)\n"
      ]
    },
    {
      "cell_type": "code",
      "execution_count": 15,
      "metadata": {},
      "outputs": [
        {
          "name": "stdout",
          "output_type": "stream",
          "text": [
            "1/1 [==============================] - 0s 104ms/step\n",
            "Image: 1.jpg, Predicted label: Trouser\n",
            "1/1 [==============================] - 0s 32ms/step\n",
            "Image: 2.jpg, Predicted label: Bag\n",
            "1/1 [==============================] - 0s 40ms/step\n",
            "Image: 3.jpg, Predicted label: Dress\n",
            "1/1 [==============================] - 0s 60ms/step\n",
            "Image: 4.jpg, Predicted label: Bag\n",
            "1/1 [==============================] - 0s 64ms/step\n",
            "Image: 5.jpg, Predicted label: Bag\n",
            "1/1 [==============================] - 0s 58ms/step\n",
            "Image: tyas.jpg, Predicted label: Bag\n"
          ]
        }
      ],
      "source": [
        "import os\n",
        "from PIL import Image\n",
        "\n",
        "# Load the trained model\n",
        "model = keras.models.load_model('image_detection_fmnistonly.h5')\n",
        "\n",
        "# Load the class labels\n",
        "class_labels = ['T-shirt/top', 'Trouser', 'Pullover', 'Dress', 'Coat', 'Sandal', 'Shirt', 'Sneaker', 'Bag', 'Ankle boot']\n",
        "\n",
        "# Folder path\n",
        "folder_path = 'gambarTest'  \n",
        "# Process each image in the folder\n",
        "for filename in os.listdir(folder_path):\n",
        "    if filename.endswith('.jpg'):\n",
        "        # Load and preprocess the image\n",
        "        image_path = os.path.join(folder_path, filename)\n",
        "        image = Image.open(image_path).convert('L')  # Convert image to grayscale\n",
        "        image = image.resize((28, 28))  # Resize the image to match the input shape of the model\n",
        "        image = np.array(image)  # Convert the image to a NumPy array\n",
        "        image = image / 255.0  # Normalize the pixel values\n",
        "\n",
        "        # Make a prediction\n",
        "        prediction = model.predict(np.expand_dims(image, axis=0))\n",
        "        predicted_label = np.argmax(prediction[0])\n",
        "\n",
        "        # Print the predicted label\n",
        "        print(f'Image: {filename}, Predicted label: {class_labels[predicted_label]}')\n"
      ]
    },
    {
      "cell_type": "code",
      "execution_count": 16,
      "metadata": {},
      "outputs": [],
      "source": [
        "import tensorflowjs as tfjs\n",
        "# Path untuk menyimpan model TensorFlow.js\n",
        "tfjs_model_path = 'tfjs_model_MNIST' #Konversi ke JSON\n",
        "\n",
        "# Konversi model ke format TensorFlow.js\n",
        "tfjs.converters.save_keras_model(model, tfjs_model_path)"
      ]
    }
  ],
  "metadata": {
    "colab": {
      "provenance": []
    },
    "kernelspec": {
      "display_name": "Python 3",
      "name": "python3"
    },
    "language_info": {
      "codemirror_mode": {
        "name": "ipython",
        "version": 3
      },
      "file_extension": ".py",
      "mimetype": "text/x-python",
      "name": "python",
      "nbconvert_exporter": "python",
      "pygments_lexer": "ipython3",
      "version": "3.10.9"
    }
  },
  "nbformat": 4,
  "nbformat_minor": 0
}
