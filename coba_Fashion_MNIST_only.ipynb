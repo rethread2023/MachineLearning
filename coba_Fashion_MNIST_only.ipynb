{
  "cells": [
    {
      "cell_type": "code",
      "execution_count": 1,
      "metadata": {
        "id": "rC2ubSNSFSy4"
      },
      "outputs": [],
      "source": [
        "import tensorflow as tf\n",
        "from tensorflow import keras\n",
        "import numpy as np"
      ]
    },
    {
      "cell_type": "code",
      "execution_count": 2,
      "metadata": {
        "colab": {
          "base_uri": "https://localhost:8080/"
        },
        "id": "d9Bha0UvFg5P",
        "outputId": "914c72c7-99b1-4a9d-cc40-8dc24ff061cc"
      },
      "outputs": [],
      "source": [
        "fashion_mnist = keras.datasets.fashion_mnist\n",
        "(train_images, train_labels), (test_images, test_labels) = fashion_mnist.load_data()\n",
        "\n",
        "train_images = train_images / 255.0\n",
        "test_images = test_images / 255.0\n"
      ]
    },
    {
      "cell_type": "code",
      "execution_count": 3,
      "metadata": {
        "id": "Zb0E-uS5Fnek"
      },
      "outputs": [],
      "source": [
        "model = keras.Sequential([\n",
        "    keras.layers.Flatten(input_shape=(28, 28)),\n",
        "    keras.layers.Dense(128, activation='relu'),\n",
        "    keras.layers.Dense(10, activation='softmax')\n",
        "])\n"
      ]
    },
    {
      "cell_type": "code",
      "execution_count": 4,
      "metadata": {
        "id": "CgoWS0tDFqos"
      },
      "outputs": [],
      "source": [
        "model.compile(optimizer='adam',\n",
        "              loss='sparse_categorical_crossentropy',\n",
        "              metrics=['accuracy'])\n"
      ]
    },
    {
      "cell_type": "code",
      "execution_count": 5,
      "metadata": {
        "colab": {
          "base_uri": "https://localhost:8080/"
        },
        "id": "OPvP0JrpFsys",
        "outputId": "5637acbb-5c80-49d9-bf54-17b08e8f8068"
      },
      "outputs": [
        {
          "name": "stdout",
          "output_type": "stream",
          "text": [
            "Epoch 1/100\n",
            "1875/1875 [==============================] - 18s 8ms/step - loss: 0.4962 - accuracy: 0.8249 0s - loss: 0\n",
            "Epoch 2/100\n",
            "1875/1875 [==============================] - 14s 7ms/step - loss: 0.3716 - accuracy: 0.8662 \n",
            "Epoch 3/100\n",
            "1875/1875 [==============================] - 15s 8ms/step - loss: 0.3363 - accuracy: 0.8774 1s - loss: 0.3381 - accuracy - ETA: \n",
            "Epoch 4/100\n",
            "1875/1875 [==============================] - 14s 8ms/step - loss: 0.3102 - accuracy: 0.8862 1s - loss: - ETA: 0s - loss: 0.3100 - ac\n",
            "Epoch 5/100\n",
            "1875/1875 [==============================] - 13s 7ms/step - loss: 0.2922 - accuracy: 0.8928\n",
            "Epoch 6/100\n",
            "1875/1875 [==============================] - 14s 7ms/step - loss: 0.2773 - accuracy: 0.8975 0s - loss: 0.2784 - accu - ETA: 0s - loss: 0.2774 - accuracy\n",
            "Epoch 7/100\n",
            "1875/1875 [==============================] - 14s 7ms/step - loss: 0.2663 - accuracy: 0.9008\n",
            "Epoch 8/100\n",
            "1875/1875 [==============================] - 14s 7ms/step - loss: 0.2546 - accuracy: 0.9051\n",
            "Epoch 9/100\n",
            "1875/1875 [==============================] - 15s 8ms/step - loss: 0.2444 - accuracy: 0.9082\n",
            "Epoch 10/100\n",
            "1875/1875 [==============================] - 14s 7ms/step - loss: 0.2373 - accuracy: 0.9107\n",
            "Epoch 11/100\n",
            "1875/1875 [==============================] - 13s 7ms/step - loss: 0.2274 - accuracy: 0.9156\n",
            "Epoch 12/100\n",
            "1875/1875 [==============================] - 14s 8ms/step - loss: 0.2197 - accuracy: 0.9172\n",
            "Epoch 13/100\n",
            "1875/1875 [==============================] - 14s 7ms/step - loss: 0.2137 - accuracy: 0.9191\n",
            "Epoch 14/100\n",
            "1875/1875 [==============================] - 15s 8ms/step - loss: 0.2088 - accuracy: 0.9212\n",
            "Epoch 15/100\n",
            "1875/1875 [==============================] - 14s 7ms/step - loss: 0.2020 - accuracy: 0.9247\n",
            "Epoch 16/100\n",
            "1875/1875 [==============================] - 15s 8ms/step - loss: 0.1968 - accuracy: 0.9259\n",
            "Epoch 17/100\n",
            "1875/1875 [==============================] - 15s 8ms/step - loss: 0.1889 - accuracy: 0.9295\n",
            "Epoch 18/100\n",
            "1875/1875 [==============================] - 15s 8ms/step - loss: 0.1845 - accuracy: 0.9309\n",
            "Epoch 19/100\n",
            "1875/1875 [==============================] - 15s 8ms/step - loss: 0.1803 - accuracy: 0.9332\n",
            "Epoch 20/100\n",
            "1875/1875 [==============================] - 15s 8ms/step - loss: 0.1757 - accuracy: 0.9323\n",
            "Epoch 21/100\n",
            "1875/1875 [==============================] - 16s 8ms/step - loss: 0.1714 - accuracy: 0.9359\n",
            "Epoch 22/100\n",
            "1875/1875 [==============================] - 13s 7ms/step - loss: 0.1676 - accuracy: 0.9373\n",
            "Epoch 23/100\n",
            "1875/1875 [==============================] - 13s 7ms/step - loss: 0.1609 - accuracy: 0.9399 0s - loss: 0.1604 - accuracy\n",
            "Epoch 24/100\n",
            "1875/1875 [==============================] - 13s 7ms/step - loss: 0.1579 - accuracy: 0.9403\n",
            "Epoch 25/100\n",
            "1875/1875 [==============================] - 13s 7ms/step - loss: 0.1570 - accuracy: 0.9414\n",
            "Epoch 26/100\n",
            "1875/1875 [==============================] - 13s 7ms/step - loss: 0.1506 - accuracy: 0.9444 0s\n",
            "Epoch 27/100\n",
            "1875/1875 [==============================] - 16s 8ms/step - loss: 0.1469 - accuracy: 0.9453\n",
            "Epoch 28/100\n",
            "1875/1875 [==============================] - 16s 8ms/step - loss: 0.1430 - accuracy: 0.9461\n",
            "Epoch 29/100\n",
            "1875/1875 [==============================] - 17s 9ms/step - loss: 0.1419 - accuracy: 0.9463 1s\n",
            "Epoch 30/100\n",
            "1875/1875 [==============================] - 16s 9ms/step - loss: 0.1359 - accuracy: 0.9487\n",
            "Epoch 31/100\n",
            "1875/1875 [==============================] - 14s 7ms/step - loss: 0.1347 - accuracy: 0.9497\n",
            "Epoch 32/100\n",
            "1875/1875 [==============================] - 15s 8ms/step - loss: 0.1300 - accuracy: 0.9510\n",
            "Epoch 33/100\n",
            "1875/1875 [==============================] - 14s 7ms/step - loss: 0.1268 - accuracy: 0.9524\n",
            "Epoch 34/100\n",
            "1875/1875 [==============================] - 14s 7ms/step - loss: 0.1260 - accuracy: 0.9523\n",
            "Epoch 35/100\n",
            "1875/1875 [==============================] - 14s 7ms/step - loss: 0.1239 - accuracy: 0.9532\n",
            "Epoch 36/100\n",
            "1875/1875 [==============================] - 14s 8ms/step - loss: 0.1251 - accuracy: 0.9527\n",
            "Epoch 37/100\n",
            "1875/1875 [==============================] - 14s 8ms/step - loss: 0.1190 - accuracy: 0.9550\n",
            "Epoch 38/100\n",
            "1875/1875 [==============================] - 15s 8ms/step - loss: 0.1188 - accuracy: 0.9559\n",
            "Epoch 39/100\n",
            "1875/1875 [==============================] - 13s 7ms/step - loss: 0.1132 - accuracy: 0.9573 \n",
            "Epoch 40/100\n",
            "1875/1875 [==============================] - 15s 8ms/step - loss: 0.1132 - accuracy: 0.9571\n",
            "Epoch 41/100\n",
            "1875/1875 [==============================] - 16s 8ms/step - loss: 0.1123 - accuracy: 0.9590\n",
            "Epoch 42/100\n",
            "1875/1875 [==============================] - 14s 8ms/step - loss: 0.1084 - accuracy: 0.9590 0s - loss: 0.1091 - ac\n",
            "Epoch 43/100\n",
            "1875/1875 [==============================] - 15s 8ms/step - loss: 0.1059 - accuracy: 0.9604\n",
            "Epoch 44/100\n",
            "1875/1875 [==============================] - 15s 8ms/step - loss: 0.1053 - accuracy: 0.9604 0s - loss: 0.1049 - accura\n",
            "Epoch 45/100\n",
            "1875/1875 [==============================] - 14s 7ms/step - loss: 0.1013 - accuracy: 0.9620\n",
            "Epoch 46/100\n",
            "1875/1875 [==============================] - 13s 7ms/step - loss: 0.0997 - accuracy: 0.9623\n",
            "Epoch 47/100\n",
            "1875/1875 [==============================] - 14s 8ms/step - loss: 0.1001 - accuracy: 0.9625\n",
            "Epoch 48/100\n",
            "1875/1875 [==============================] - 14s 7ms/step - loss: 0.0975 - accuracy: 0.9635\n",
            "Epoch 49/100\n",
            "1875/1875 [==============================] - 14s 7ms/step - loss: 0.0944 - accuracy: 0.9642\n",
            "Epoch 50/100\n",
            "1875/1875 [==============================] - 15s 8ms/step - loss: 0.0940 - accuracy: 0.9653\n",
            "Epoch 51/100\n",
            "1875/1875 [==============================] - 15s 8ms/step - loss: 0.0930 - accuracy: 0.9647 0s - loss: 0.0926 - ac\n",
            "Epoch 52/100\n",
            "1875/1875 [==============================] - 15s 8ms/step - loss: 0.0907 - accuracy: 0.9662 0s - loss: 0.0906 - accura\n",
            "Epoch 53/100\n",
            "1875/1875 [==============================] - 14s 7ms/step - loss: 0.0892 - accuracy: 0.9671 0s - loss: 0\n",
            "Epoch 54/100\n",
            "1875/1875 [==============================] - 14s 7ms/step - loss: 0.0879 - accuracy: 0.9671\n",
            "Epoch 55/100\n",
            "1875/1875 [==============================] - 14s 8ms/step - loss: 0.0887 - accuracy: 0.9664\n",
            "Epoch 56/100\n",
            "1875/1875 [==============================] - 13s 7ms/step - loss: 0.0850 - accuracy: 0.9686\n",
            "Epoch 57/100\n",
            "1875/1875 [==============================] - 13s 7ms/step - loss: 0.0837 - accuracy: 0.9683\n",
            "Epoch 58/100\n",
            "1875/1875 [==============================] - 16s 9ms/step - loss: 0.0833 - accuracy: 0.9691 0s - loss: 0.0831 - ac\n",
            "Epoch 59/100\n",
            "1875/1875 [==============================] - 16s 9ms/step - loss: 0.0840 - accuracy: 0.9688 0s - loss: 0.0839 - ac\n",
            "Epoch 60/100\n",
            "1875/1875 [==============================] - 14s 8ms/step - loss: 0.0827 - accuracy: 0.9688\n",
            "Epoch 61/100\n",
            "1875/1875 [==============================] - 15s 8ms/step - loss: 0.0802 - accuracy: 0.9707 0s\n",
            "Epoch 62/100\n",
            "1875/1875 [==============================] - 14s 7ms/step - loss: 0.0782 - accuracy: 0.9716\n",
            "Epoch 63/100\n",
            "1875/1875 [==============================] - 14s 7ms/step - loss: 0.0789 - accuracy: 0.9703\n",
            "Epoch 64/100\n",
            "1875/1875 [==============================] - 14s 7ms/step - loss: 0.0777 - accuracy: 0.9706\n",
            "Epoch 65/100\n",
            "1875/1875 [==============================] - 14s 7ms/step - loss: 0.0748 - accuracy: 0.9722 0s - loss: 0.074\n",
            "Epoch 66/100\n",
            "1875/1875 [==============================] - 15s 8ms/step - loss: 0.0752 - accuracy: 0.9722\n",
            "Epoch 67/100\n",
            "1875/1875 [==============================] - 17s 9ms/step - loss: 0.0711 - accuracy: 0.9735 0s - loss: 0.0709 - accuracy: \n",
            "Epoch 68/100\n",
            "1875/1875 [==============================] - 14s 8ms/step - loss: 0.0725 - accuracy: 0.9729 0s - loss: 0.0727 - accuracy: 0.97 - ETA: 0s - loss: 0.072\n",
            "Epoch 69/100\n",
            "1875/1875 [==============================] - 14s 8ms/step - loss: 0.0725 - accuracy: 0.9727\n",
            "Epoch 70/100\n",
            "1875/1875 [==============================] - 14s 8ms/step - loss: 0.0702 - accuracy: 0.9741\n",
            "Epoch 71/100\n",
            "1875/1875 [==============================] - 13s 7ms/step - loss: 0.0683 - accuracy: 0.9740\n",
            "Epoch 72/100\n",
            "1875/1875 [==============================] - ETA: 0s - loss: 0.0671 - accuracy: 0.97 - ETA: 0s - loss: 0.0671 - accuracy: 0.97 - 13s 7ms/step - loss: 0.0672 - accuracy: 0.9748\n",
            "Epoch 73/100\n",
            "1875/1875 [==============================] - 14s 7ms/step - loss: 0.0690 - accuracy: 0.9743 4s - los - ETA: 3s - loss: 0.0666 - accura - ETA: 3s - ETA: 2s - loss: 0.068 - ETA: 1s -\n",
            "Epoch 74/100\n",
            "1875/1875 [==============================] - 14s 8ms/step - loss: 0.0667 - accuracy: 0.9744\n",
            "Epoch 75/100\n",
            "1875/1875 [==============================] - 12s 7ms/step - loss: 0.0660 - accuracy: 0.9756\n",
            "Epoch 76/100\n",
            "1875/1875 [==============================] - 13s 7ms/step - loss: 0.0641 - accuracy: 0.9760\n",
            "Epoch 77/100\n",
            "1875/1875 [==============================] - 13s 7ms/step - loss: 0.0628 - accuracy: 0.9764\n",
            "Epoch 78/100\n",
            "1875/1875 [==============================] - 15s 8ms/step - loss: 0.0608 - accuracy: 0.9770\n",
            "Epoch 79/100\n",
            "1875/1875 [==============================] - 13s 7ms/step - loss: 0.0639 - accuracy: 0.9762\n",
            "Epoch 80/100\n",
            "1875/1875 [==============================] - 13s 7ms/step - loss: 0.0630 - accuracy: 0.9768 \n",
            "Epoch 81/100\n",
            "1875/1875 [==============================] - 13s 7ms/step - loss: 0.0609 - accuracy: 0.9776\n",
            "Epoch 82/100\n",
            "1875/1875 [==============================] - 14s 7ms/step - loss: 0.0612 - accuracy: 0.9772\n",
            "Epoch 83/100\n",
            "1875/1875 [==============================] - 14s 7ms/step - loss: 0.0576 - accuracy: 0.9783\n",
            "Epoch 84/100\n",
            "1875/1875 [==============================] - 13s 7ms/step - loss: 0.0611 - accuracy: 0.9773\n",
            "Epoch 85/100\n",
            "1875/1875 [==============================] - 13s 7ms/step - loss: 0.0618 - accuracy: 0.9768\n",
            "Epoch 86/100\n",
            "1875/1875 [==============================] - 13s 7ms/step - loss: 0.0563 - accuracy: 0.9790 0s - loss: 0.0561 - accuracy - ETA: 0s - loss: 0.0561 - accuracy: 0.97\n",
            "Epoch 87/100\n",
            "1875/1875 [==============================] - 14s 7ms/step - loss: 0.0606 - accuracy: 0.9778A: 1s - loss:\n",
            "Epoch 88/100\n",
            "1875/1875 [==============================] - 13s 7ms/step - loss: 0.0552 - accuracy: 0.9794\n",
            "Epoch 89/100\n",
            "1875/1875 [==============================] - 13s 7ms/step - loss: 0.0560 - accuracy: 0.9786 0s - loss: 0.0562 - accuracy: 0.\n",
            "Epoch 90/100\n",
            "1875/1875 [==============================] - 13s 7ms/step - loss: 0.0545 - accuracy: 0.9803\n",
            "Epoch 91/100\n",
            "1875/1875 [==============================] - 13s 7ms/step - loss: 0.0539 - accuracy: 0.9800\n",
            "Epoch 92/100\n",
            "1875/1875 [==============================] - 13s 7ms/step - loss: 0.0543 - accuracy: 0.9800\n",
            "Epoch 93/100\n",
            "1875/1875 [==============================] - 13s 7ms/step - loss: 0.0539 - accuracy: 0.9799\n",
            "Epoch 94/100\n",
            "1875/1875 [==============================] - 13s 7ms/step - loss: 0.0537 - accuracy: 0.9799\n",
            "Epoch 95/100\n",
            "1875/1875 [==============================] - 13s 7ms/step - loss: 0.0513 - accuracy: 0.9808\n",
            "Epoch 96/100\n",
            "1875/1875 [==============================] - 14s 7ms/step - loss: 0.0509 - accuracy: 0.9812\n",
            "Epoch 97/100\n",
            "1875/1875 [==============================] - 13s 7ms/step - loss: 0.0485 - accuracy: 0.9822\n",
            "Epoch 98/100\n",
            "1875/1875 [==============================] - 12s 7ms/step - loss: 0.0499 - accuracy: 0.9816\n",
            "Epoch 99/100\n",
            "1875/1875 [==============================] - 13s 7ms/step - loss: 0.0491 - accuracy: 0.9823\n",
            "Epoch 100/100\n",
            "1875/1875 [==============================] - 13s 7ms/step - loss: 0.0498 - accuracy: 0.9816\n"
          ]
        },
        {
          "data": {
            "text/plain": [
              "<tensorflow.python.keras.callbacks.History at 0x25b2549b460>"
            ]
          },
          "execution_count": 5,
          "metadata": {},
          "output_type": "execute_result"
        }
      ],
      "source": [
        "model.fit(train_images, train_labels, epochs=100, batch_size=32)\n"
      ]
    },
    {
      "cell_type": "code",
      "execution_count": 6,
      "metadata": {
        "colab": {
          "base_uri": "https://localhost:8080/"
        },
        "id": "PfCMQifKRTqD",
        "outputId": "eb01457f-63fb-45fa-c565-c102add1704f"
      },
      "outputs": [
        {
          "name": "stdout",
          "output_type": "stream",
          "text": [
            "313/313 [==============================] - 4s 5ms/step - loss: 0.7872 - accuracy: 0.8854\n",
            "Test accuracy: 0.8853999972343445\n"
          ]
        }
      ],
      "source": [
        "test_loss, test_acc = model.evaluate(test_images, test_labels)\n",
        "print('Test accuracy:', test_acc)\n"
      ]
    },
    {
      "cell_type": "code",
      "execution_count": 7,
      "metadata": {
        "colab": {
          "base_uri": "https://localhost:8080/"
        },
        "id": "IDQy4WSgRWIu",
        "outputId": "30a95b71-ad24-48df-ce3a-9a2e99d4d5c4"
      },
      "outputs": [],
      "source": [
        "predictions = model.predict(test_images)\n"
      ]
    }
  ],
  "metadata": {
    "colab": {
      "provenance": []
    },
    "kernelspec": {
      "display_name": "Python 3",
      "name": "python3"
    },
    "language_info": {
      "codemirror_mode": {
        "name": "ipython",
        "version": 3
      },
      "file_extension": ".py",
      "mimetype": "text/x-python",
      "name": "python",
      "nbconvert_exporter": "python",
      "pygments_lexer": "ipython3",
      "version": "3.9.7"
    }
  },
  "nbformat": 4,
  "nbformat_minor": 0
}
