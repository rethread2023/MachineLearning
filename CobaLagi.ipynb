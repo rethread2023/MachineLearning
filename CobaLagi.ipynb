{
 "cells": [
  {
   "cell_type": "code",
   "execution_count": 2,
   "metadata": {},
   "outputs": [
    {
     "name": "stderr",
     "output_type": "stream",
     "text": [
      "C:\\Users\\Rizky Ammar\\AppData\\Local\\Temp\\ipykernel_10924\\3697801503.py:38: VisibleDeprecationWarning: Creating an ndarray from ragged nested sequences (which is a list-or-tuple of lists-or-tuples-or ndarrays with different lengths or shapes) is deprecated. If you meant to do this, you must specify 'dtype=object' when creating the ndarray.\n",
      "  image_data = np.array(image_data)\n"
     ]
    }
   ],
   "source": [
    "import os\n",
    "import pandas as pd\n",
    "import numpy as np\n",
    "from tensorflow.keras.datasets import fashion_mnist\n",
    "from tensorflow.keras.models import Sequential\n",
    "from tensorflow.keras.layers import Dense, Flatten\n",
    "from sklearn.model_selection import train_test_split\n",
    "from PIL import Image\n",
    "\n",
    "# Memuat dataset Fashion MNIST\n",
    "(_, train_labels), (_, test_labels) = fashion_mnist.load_data()\n",
    "\n",
    "# Memuat file CSV yang berisi label dari dataset FashionImages\n",
    "df = pd.read_csv('mytradataset/labels(1).csv')\n",
    "\n",
    "# Memisahkan header dan data\n",
    "header = df.iloc[0]\n",
    "data = df.iloc[1:]\n",
    "\n",
    "# Mengatur header sebagai nama kolom\n",
    "data.columns = header\n",
    "\n",
    "# Mengambil kolom 'articleType' sebagai label FashionImages\n",
    "fashionimage_labels = df['articleType']\n",
    "\n",
    "# Menggabungkan label FashionImages dengan label MNIST\n",
    "merged_labels = pd.concat([fashionimage_labels, pd.Series(train_labels)], axis=0)\n",
    "\n",
    "# Menggabungkan gambar dari folder 'images' dengan dataset MNIST\n",
    "image_folder = 'mytradataset/images(1)/'\n",
    "image_data = []\n",
    "for filename in os.listdir(image_folder):\n",
    "    image_path = os.path.join(image_folder, filename)\n",
    "    image = Image.open(image_path)\n",
    "    image_data.append(np.array(image))\n",
    "\n",
    "# Konversi data gambar menjadi array numpy\n",
    "image_data = np.array(image_data)\n",
    "\n"
   ]
  },
  {
   "cell_type": "code",
   "execution_count": null,
   "metadata": {},
   "outputs": [],
   "source": [
    "# Bagi data menjadi train dan test dengan proporsi 80:20\n",
    "train_images, test_images, train_labels, test_labels = train_test_split(image_data, merged_labels, test_size=0.2, random_state=42)\n",
    "\n",
    "# Bagi data train menjadi train dan validation dengan proporsi 80:20\n",
    "train_images, val_images, train_labels, val_labels = train_test_split(train_images, train_labels, test_size=0.2, random_state=42)\n",
    "\n",
    "# Membangun model\n",
    "model = Sequential()\n",
    "model.add(Flatten(input_shape=(28, 28)))  # Ubah gambar menjadi vektor 1D\n",
    "model.add(Dense(128, activation='relu'))\n",
    "model.add(Dense(10, activation='softmax'))\n",
    "\n",
    "# Kompilasi model\n",
    "model.compile(optimizer='adam', loss='sparse_categorical_crossentropy', metrics=['accuracy'])\n",
    "\n",
    "# Melatih model\n",
    "model.fit(train_images, train_labels, epochs=10, validation_data=(val_images, val_labels))\n",
    "\n",
    "# Evaluasi model pada data test\n",
    "test_loss, test_acc = model.evaluate(test_images, test_labels)\n",
    "print(\"Test loss:\", test_loss)\n",
    "print(\"Test accuracy:\", test_acc)\n"
   ]
  }
 ],
 "metadata": {
  "kernelspec": {
   "display_name": "Python 3",
   "language": "python",
   "name": "python3"
  },
  "language_info": {
   "codemirror_mode": {
    "name": "ipython",
    "version": 3
   },
   "file_extension": ".py",
   "mimetype": "text/x-python",
   "name": "python",
   "nbconvert_exporter": "python",
   "pygments_lexer": "ipython3",
   "version": "3.10.7"
  },
  "orig_nbformat": 4
 },
 "nbformat": 4,
 "nbformat_minor": 2
}
